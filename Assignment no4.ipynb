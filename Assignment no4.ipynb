{
 "cells": [
  {
   "cell_type": "code",
   "execution_count": null,
   "id": "c02eafaf",
   "metadata": {},
   "outputs": [],
   "source": [
    "ASSIGNMENTS NO:4"
   ]
  },
  {
   "cell_type": "code",
   "execution_count": 9,
   "id": "74614fc5",
   "metadata": {},
   "outputs": [
    {
     "name": "stdout",
     "output_type": "stream",
     "text": [
      "s=input(\"Enter string:\")\n",
      "w=s.split()\n",
      "print(\"word in even lenght:\")\n",
      "for s1 in w:\n",
      "    if(len(s1)%2==0):\n",
      "        print(s1,end=\" \")\n",
      "word in odd length\n"
     ]
    }
   ],
   "source": [
    "#SET-A\n",
    "#1.python program to read an entire text file\n",
    "f=open(\"Arati.txt\")\n",
    "print(f.read())\n",
    "f.close()"
   ]
  },
  {
   "cell_type": "code",
   "execution_count": 10,
   "id": "e1f1c306",
   "metadata": {},
   "outputs": [
    {
     "name": "stdout",
     "output_type": "stream",
     "text": [
      "wprd: 0\n",
      "lines 7\n",
      "char: 82\n"
     ]
    }
   ],
   "source": [
    "#2.python program to compute the number of characters,words and lines in a  file\n",
    "f=open(\"Arati.txt\")\n",
    "s=f.read()\n",
    "char=0\n",
    "word=0\n",
    "for ch in s:\n",
    "    if ch.isalpha():\n",
    "        char=char+1\n",
    "    if ch.isspace():\n",
    "        wprd=word+1\n",
    "f.close()\n",
    "f=open(\"Arati.txt\")\n",
    "l=len(f.readlines())\n",
    "print(\"wprd:\",word)\n",
    "print(\"lines\",l)\n",
    "print(\"char:\",char)"
   ]
  },
  {
   "cell_type": "code",
   "execution_count": 4,
   "id": "54b985bc",
   "metadata": {},
   "outputs": [
    {
     "name": "stdout",
     "output_type": "stream",
     "text": [
      "print current date and time:\n",
      "22 12 12  22:26:54\n"
     ]
    }
   ],
   "source": [
    "#3.python program print the current date following format \"sum may 29 02:26:23\" IST 2017\n",
    "import datetime\n",
    "now=datetime.datetime.now()\n",
    "print(\"print current date and time:\")\n",
    "print(now.strftime(\"%y %m %d  %H:%M:%S\"))"
   ]
  },
  {
   "cell_type": "code",
   "execution_count": 5,
   "id": "19efd401",
   "metadata": {},
   "outputs": [
    {
     "name": "stdout",
     "output_type": "stream",
     "text": [
      "Enter string to appendword in odd length\n",
      "s=input(\"Enter string:\")\n",
      "w=s.split()\n",
      "print(\"word in even lenght:\")\n",
      "for s1 in w:\n",
      "    if(len(s1)%2==0):\n",
      "        print(s1,end=\" \")\n",
      "word in odd length\n"
     ]
    }
   ],
   "source": [
    "#SET-B\n",
    "#1.python  program to append text to a file and display the text\n",
    "f=open(\"Arati.txt\",\"a\")\n",
    "s=input(\"Enter string to append\")\n",
    "f.write(s)\n",
    "f.close()\n",
    "f=open(\"Arati.txt\")\n",
    "print(f.read())"
   ]
  },
  {
   "cell_type": "code",
   "execution_count": 7,
   "id": "40e371cd",
   "metadata": {},
   "outputs": [
    {
     "name": "stdout",
     "output_type": "stream",
     "text": [
      "\n",
      " ) \" : g n i r t s   r e t n E \" ( t u p n i = s\n",
      "\n",
      " ) ( t i l p s . s = w\n",
      "\n",
      " ) \" : t h g n e l   n e v e   n i   d r o w \" ( t n i r p\n",
      "\n",
      " : w   n i   1 s   r o f\n",
      "\n",
      " : ) 0 = = 2 % ) 1 s ( n e l ( f i        \n",
      "\n",
      " ) \"   \" = d n e , 1 s ( t n i r p                \n",
      "h t g n e l   d d o   n i   d r o w\n"
     ]
    }
   ],
   "source": [
    "#2.python program ton print each line in a reverse order\n",
    "f=open(\"Arati.txt\")\n",
    "for line in f:\n",
    "    s1=\" \".join(reversed(line))\n",
    "    print(s1)\n",
    "f.close()"
   ]
  },
  {
   "cell_type": "code",
   "execution_count": 8,
   "id": "6d4b1c23",
   "metadata": {},
   "outputs": [
    {
     "name": "stdout",
     "output_type": "stream",
     "text": [
      "print current date and time:\n",
      "22 12 12  22:42:38\n"
     ]
    }
   ],
   "source": [
    "#3.python program to print a date time today and now\n",
    "import datetime\n",
    "now=datetime.datetime.now()\n",
    "print(\"print current date and time:\")\n",
    "print(now.strftime(\"%y %m %d  %H:%M:%S\"))"
   ]
  }
 ],
 "metadata": {
  "kernelspec": {
   "display_name": "Python 3 (ipykernel)",
   "language": "python",
   "name": "python3"
  },
  "language_info": {
   "codemirror_mode": {
    "name": "ipython",
    "version": 3
   },
   "file_extension": ".py",
   "mimetype": "text/x-python",
   "name": "python",
   "nbconvert_exporter": "python",
   "pygments_lexer": "ipython3",
   "version": "3.9.12"
  }
 },
 "nbformat": 4,
 "nbformat_minor": 5
}
