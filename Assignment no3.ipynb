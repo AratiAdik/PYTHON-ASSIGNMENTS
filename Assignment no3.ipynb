{
 "cells": [
  {
   "cell_type": "code",
   "execution_count": null,
   "id": "2cbe18cb",
   "metadata": {},
   "outputs": [],
   "source": [
    "ASSIGNMENTS NO:3"
   ]
  },
  {
   "cell_type": "code",
   "execution_count": 1,
   "id": "72db9b69",
   "metadata": {},
   "outputs": [
    {
     "name": "stdout",
     "output_type": "stream",
     "text": [
      "sum of list: 100\n"
     ]
    }
   ],
   "source": [
    "#SET-A\n",
    "#list:\n",
    "#1.program to sum all the item in the  list\n",
    "a=[10,20,30,40]\n",
    "sum=0\n",
    "for i in a:\n",
    "    sum=sum+i\n",
    "print(\"sum of list:\",sum)"
   ]
  },
  {
   "cell_type": "code",
   "execution_count": 38,
   "id": "6812b71f",
   "metadata": {},
   "outputs": [
    {
     "data": {
      "text/plain": [
       "100"
      ]
     },
     "execution_count": 38,
     "metadata": {},
     "output_type": "execute_result"
    }
   ],
   "source": [
    "list=[10,20,30,40]\n",
    "sum(list)"
   ]
  },
  {
   "cell_type": "code",
   "execution_count": 40,
   "id": "690769a4",
   "metadata": {},
   "outputs": [
    {
     "name": "stdout",
     "output_type": "stream",
     "text": [
      "multiplication of list: 200\n"
     ]
    }
   ],
   "source": [
    "#2.write  a python program to multiplies the item in list\n",
    "def mul(list):\n",
    "    total=1\n",
    "    for i in list:\n",
    "        total=total*i\n",
    "    return total\n",
    "list=[10,20]\n",
    "print(\"multiplication of list:\",mul(list))"
   ]
  },
  {
   "cell_type": "code",
   "execution_count": 39,
   "id": "4d0b53e4",
   "metadata": {},
   "outputs": [
    {
     "name": "stdout",
     "output_type": "stream",
     "text": [
      "200\n"
     ]
    }
   ],
   "source": [
    "list=[10,20]\n",
    "mul=1\n",
    "for i in list:\n",
    "    mul=mul*i\n",
    "print(mul)"
   ]
  },
  {
   "cell_type": "code",
   "execution_count": 10,
   "id": "44f4a97c",
   "metadata": {},
   "outputs": [
    {
     "name": "stdout",
     "output_type": "stream",
     "text": [
      "after sorting= [(40, 10), (10, 20), (24, 34), (30, 40)]\n"
     ]
    }
   ],
   "source": [
    "#3.program to get list,sorted in increasing order by the last elements in each tuple from a given list of no-empty tuples\n",
    "def last(n):\n",
    "     return n[-1]\n",
    "def incr(list):\n",
    "    return sorted(list,key=last)\n",
    "list=[(10,20),(30,40),(40,10),(24,34)]\n",
    "print(\"after sorting=\",incr(list))"
   ]
  },
  {
   "cell_type": "code",
   "execution_count": 1,
   "id": "0b5f31de",
   "metadata": {},
   "outputs": [
    {
     "name": "stdout",
     "output_type": "stream",
     "text": [
      "('apple', 'grapes', 'banana', 'orange')\n"
     ]
    }
   ],
   "source": [
    "#tuple\n",
    "#1.pyhon program tto create tuple\n",
    "tuple=(\"apple\",\"grapes\",\"banana\",\"orange\")\n",
    "print(tuple)"
   ]
  },
  {
   "cell_type": "code",
   "execution_count": 2,
   "id": "03a8716a",
   "metadata": {},
   "outputs": [
    {
     "name": "stdout",
     "output_type": "stream",
     "text": [
      "(11, 'orange', 22.4, 'apple', [20, 30])\n"
     ]
    }
   ],
   "source": [
    "#2.python program to create tuple with different data types\n",
    "tuple=(11,\"orange\",22.40,\"apple\",[20,30])\n",
    "print(tuple)"
   ]
  },
  {
   "cell_type": "code",
   "execution_count": 3,
   "id": "261096c7",
   "metadata": {},
   "outputs": [
    {
     "name": "stdout",
     "output_type": "stream",
     "text": [
      "False\n",
      "True\n"
     ]
    }
   ],
   "source": [
    "#3.python program to check whether an element exist within a tuple\n",
    "tuple=(10,23,45,86,37,59)\n",
    "print(12 in tuple)\n",
    "print(23 in tuple)"
   ]
  },
  {
   "cell_type": "code",
   "execution_count": 4,
   "id": "d4e047ad",
   "metadata": {},
   "outputs": [
    {
     "name": "stdout",
     "output_type": "stream",
     "text": [
      "{34, 11, 30.9, 'green'}\n"
     ]
    }
   ],
   "source": [
    "#set\n",
    "#1.python program to create a set\n",
    "set1={11,\"green\",34,30.90}\n",
    "print(set1)"
   ]
  },
  {
   "cell_type": "code",
   "execution_count": 7,
   "id": "44bd8bc9",
   "metadata": {},
   "outputs": [
    {
     "name": "stdout",
     "output_type": "stream",
     "text": [
      "1\n",
      "5.08\n",
      "blue\n",
      "23\n",
      "76\n"
     ]
    }
   ],
   "source": [
    "#2.python program to iterate over sets\n",
    "set1={23,5.08,\"blue\",76,1}\n",
    "for i in set1:\n",
    " print(i)"
   ]
  },
  {
   "cell_type": "code",
   "execution_count": 8,
   "id": "c8e34b0a",
   "metadata": {},
   "outputs": [
    {
     "name": "stdout",
     "output_type": "stream",
     "text": [
      "{2, 3, 7}\n"
     ]
    }
   ],
   "source": [
    "#3.python program to create set difference\n",
    "a={1,2,3,4,5,6,7}\n",
    "b={1,8,9,0,4,5,6}\n",
    "print(a.difference(b))"
   ]
  },
  {
   "cell_type": "code",
   "execution_count": 13,
   "id": "5a87bbc0",
   "metadata": {},
   "outputs": [
    {
     "name": "stdout",
     "output_type": "stream",
     "text": [
      "original dictionary  elements:\n",
      "{'red': 1, 'green': 3, 'black': 5, 'white': 2, 'pink': 4}\n",
      "\n",
      "sort(ascending)the said dictionary elements by values:\n",
      "{'red': 1, 'white': 2, 'green': 3, 'pink': 4, 'black': 5}\n",
      "\n",
      "sort(desceding)the said dictionary elements by values:\n",
      "{'black': 5, 'pink': 4, 'green': 3, 'white': 2, 'red': 1}\n"
     ]
    }
   ],
   "source": [
    "#dictionary\n",
    "#1.python script  to sort(asc and desc) a dictionary by value\n",
    "def sort_dict_by_value(d,reverse=False):\n",
    "    return dict(sorted(d.items(),key=lambda x:x[1],reverse=reverse))\n",
    "print(\"original dictionary  elements:\")\n",
    "colors={'red':1,'green':3,'black':5,'white':2,'pink':4}\n",
    "print(colors)\n",
    "print(\"\\nsort(ascending)the said dictionary elements by values:\")\n",
    "print(sort_dict_by_value(colors))\n",
    "print(\"\\nsort(desceding)the said dictionary elements by values:\")\n",
    "print(sort_dict_by_value(colors,True))"
   ]
  },
  {
   "cell_type": "code",
   "execution_count": 14,
   "id": "3fb9fdab",
   "metadata": {},
   "outputs": [
    {
     "name": "stdout",
     "output_type": "stream",
     "text": [
      "{'rno': 11, 'name': 'ram', 'pin-code': 413739}\n",
      "after adding key: {'rno': 11, 'name': 'ram', 'pin-code': 413739, 'address': 'shrirampur'}\n"
     ]
    }
   ],
   "source": [
    "#2.python program to add key to dictionary\n",
    "dict={\"rno\":11,\"name\":\"ram\",\"pin-code\":413739}\n",
    "print(dict)\n",
    "dict[\"address\"]=\"shrirampur\"\n",
    "print(\"after adding key:\",dict)"
   ]
  },
  {
   "cell_type": "code",
   "execution_count": 16,
   "id": "04804aea",
   "metadata": {},
   "outputs": [
    {
     "name": "stdout",
     "output_type": "stream",
     "text": [
      "rno 11\n",
      "name ram\n",
      "pin-code 413739\n"
     ]
    }
   ],
   "source": [
    "#3.python program to iterate over  dictionary using for loop\n",
    "dict={\"rno\":11,\"name\":\"ram\",\"pin-code\":413739}\n",
    "for i,j in dict.items():\n",
    "    print(i,dict[i])"
   ]
  },
  {
   "cell_type": "code",
   "execution_count": 3,
   "id": "ac077c84",
   "metadata": {},
   "outputs": [
    {
     "name": "stdout",
     "output_type": "stream",
     "text": [
      "[10, 20, 30, 40, 50]\n"
     ]
    }
   ],
   "source": [
    "#SET-B\n",
    "#list:\n",
    "#1.python program to remove duplicate from list\n",
    "a=[10,20,30,20,10,40,50]\n",
    "b=[]\n",
    "for i in a:\n",
    "    if i not in b:\n",
    "        b.append(i)\n",
    "print(b)"
   ]
  },
  {
   "cell_type": "code",
   "execution_count": 7,
   "id": "03058ab9",
   "metadata": {},
   "outputs": [
    {
     "name": "stdout",
     "output_type": "stream",
     "text": [
      "list is empty\n"
     ]
    }
   ],
   "source": [
    "#2.write python to check a list is empty or not\n",
    "list=[]\n",
    "if not list:\n",
    "    print(\"list is empty\")\n",
    "else:\n",
    "    print(\"list is not empty\")"
   ]
  },
  {
   "cell_type": "code",
   "execution_count": 3,
   "id": "8e58f043",
   "metadata": {},
   "outputs": [
    {
     "name": "stdout",
     "output_type": "stream",
     "text": [
      "(10, 20, 30, 40)\n"
     ]
    }
   ],
   "source": [
    "#Tuples:\n",
    "#1.python program to convert list to tuple\n",
    "list=[10,20,30,40]\n",
    "tuple=(*list,)\n",
    "print(tuple)"
   ]
  },
  {
   "cell_type": "code",
   "execution_count": 11,
   "id": "f84f292f",
   "metadata": {},
   "outputs": [
    {
     "name": "stdout",
     "output_type": "stream",
     "text": [
      "(10, 40, 30, 40, 20)\n"
     ]
    }
   ],
   "source": [
    "#2.python program for remove an item from a tuple\n",
    "tup=(10,40,\"aman\",30,40,20)\n",
    "tuple=tup[:2]+tup[3:]\n",
    "print(tuple)"
   ]
  },
  {
   "cell_type": "code",
   "execution_count": 12,
   "id": "acdbe9a7",
   "metadata": {},
   "outputs": [
    {
     "name": "stdout",
     "output_type": "stream",
     "text": [
      "('aman', 30, 40)\n"
     ]
    }
   ],
   "source": [
    "#3.write a python program to slice a tuple\n",
    "tup=(10,40,\"aman\",30,40,20)\n",
    "slic=tup[2:5]\n",
    "print(slic)"
   ]
  },
  {
   "cell_type": "code",
   "execution_count": 29,
   "id": "c52b27dc",
   "metadata": {},
   "outputs": [
    {
     "name": "stdout",
     "output_type": "stream",
     "text": [
      "6\n"
     ]
    }
   ],
   "source": [
    "#4.python program to find the length of a tuple\n",
    "tuple=(10,40,\"aman\",30,40,20)\n",
    "print(len(tuple))"
   ]
  },
  {
   "cell_type": "code",
   "execution_count": 14,
   "id": "01557dd7",
   "metadata": {},
   "outputs": [
    {
     "name": "stdout",
     "output_type": "stream",
     "text": [
      "False\n"
     ]
    }
   ],
   "source": [
    "#sets:\n",
    "#1.program to check if a set is a subset of another set\n",
    "x=set([\"apple\",\"mango\",\"grapes\"])\n",
    "y=set([\"mango\",\"orange\"])\n",
    "print(x.issubset(y))"
   ]
  },
  {
   "cell_type": "code",
   "execution_count": 15,
   "id": "9c74dd53",
   "metadata": {},
   "outputs": [
    {
     "name": "stdout",
     "output_type": "stream",
     "text": [
      "50\n",
      "10\n"
     ]
    }
   ],
   "source": [
    "#2.python program to find minimum and maximum of set\n",
    "a={10,20,30,40,50}\n",
    "print(max(a))\n",
    "print(min(a))"
   ]
  },
  {
   "cell_type": "code",
   "execution_count": 16,
   "id": "eee21e31",
   "metadata": {},
   "outputs": [
    {
     "name": "stdout",
     "output_type": "stream",
     "text": [
      "5\n"
     ]
    }
   ],
   "source": [
    "#3.python program to find length of a set\n",
    "a={10,20,30,40,50}\n",
    "print(len(a))"
   ]
  },
  {
   "cell_type": "code",
   "execution_count": 26,
   "id": "108d1ce2",
   "metadata": {},
   "outputs": [
    {
     "name": "stdout",
     "output_type": "stream",
     "text": [
      "Enter limit:5\n",
      "{1: 1, 2: 4, 3: 9, 4: 16, 5: 25}\n"
     ]
    }
   ],
   "source": [
    "#dictionary:\n",
    "#1.genrate and  print a dictionary that contain a number (between 1 and n) in the form (x,x*x)\n",
    "n=int(input(\"Enter limit:\"))\n",
    "dict={}\n",
    "for i in range(1,n+1):\n",
    "    dict[i]=i*i\n",
    "print(dict)\n",
    "            "
   ]
  },
  {
   "cell_type": "code",
   "execution_count": 28,
   "id": "13a65822",
   "metadata": {},
   "outputs": [
    {
     "name": "stdout",
     "output_type": "stream",
     "text": [
      "{'a': 100, 'b': 200, 'x': 300, 'y': 400}\n"
     ]
    }
   ],
   "source": [
    "#2.merge two python dictionaries\n",
    "d1={\"a\":100,\"b\":200}\n",
    "d2={\"x\":300,\"y\":400}\n",
    "d=d1.copy()\n",
    "d.update(d2)\n",
    "print(d)"
   ]
  },
  {
   "cell_type": "code",
   "execution_count": null,
   "id": "ccbf2606",
   "metadata": {},
   "outputs": [],
   "source": [
    "#3.program to get a dictionary from an object's fields\n"
   ]
  }
 ],
 "metadata": {
  "kernelspec": {
   "display_name": "Python 3 (ipykernel)",
   "language": "python",
   "name": "python3"
  },
  "language_info": {
   "codemirror_mode": {
    "name": "ipython",
    "version": 3
   },
   "file_extension": ".py",
   "mimetype": "text/x-python",
   "name": "python",
   "nbconvert_exporter": "python",
   "pygments_lexer": "ipython3",
   "version": "3.9.12"
  }
 },
 "nbformat": 4,
 "nbformat_minor": 5
}
