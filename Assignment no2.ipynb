{
 "cells": [
  {
   "cell_type": "code",
   "execution_count": null,
   "id": "67ef0929",
   "metadata": {},
   "outputs": [],
   "source": [
    "ASSIGNMENTS NO:2"
   ]
  },
  {
   "cell_type": "code",
   "execution_count": 15,
   "id": "e03b087e",
   "metadata": {},
   "outputs": [
    {
     "name": "stdout",
     "output_type": "stream",
     "text": [
      "Enter string:mama\n",
      "symmetrical\n",
      "not palindrome\n"
     ]
    }
   ],
   "source": [
    "#SET-A\n",
    "#strings::\n",
    "#check whether string is symmetrical or palindrome\n",
    "#symmetrical:\n",
    "s=input(\"Enter string:\")\n",
    "n=len(s)\n",
    "flag=0\n",
    "if n%2==0:\n",
    "    i=0\n",
    "    j=n//2\n",
    "    while i<n//2 and j<n:\n",
    "        if s[i]==s[j]:\n",
    "            i=i+1\n",
    "            j=j+1\n",
    "        else:\n",
    "                flag=1\n",
    "                break\n",
    "else:\n",
    "    flag=1\n",
    "if flag==0:\n",
    "    print(\"symmetrical\")\n",
    "else:\n",
    "    print(\"not symmetrical\")\n",
    "#palindrome\n",
    "i=0\n",
    "j=n-1\n",
    "flag=0\n",
    "while i<n:\n",
    "    if s[i]==s[j]:\n",
    "        i=i+1\n",
    "        j=j-1\n",
    "    else:\n",
    "            flag=1\n",
    "            break\n",
    "if flag==0:\n",
    "            print(\"palindrome\")\n",
    "else:\n",
    "            print(\"not palindrome\")\n",
    "\n"
   ]
  },
  {
   "cell_type": "code",
   "execution_count": 16,
   "id": "491cfe7a",
   "metadata": {},
   "outputs": [
    {
     "name": "stdout",
     "output_type": "stream",
     "text": [
      "enter string:Have a nice day\n",
      "y  a  d  e  c  i  n  a  e  v  a  H  "
     ]
    }
   ],
   "source": [
    "#2. program to Reverse words in a given string\n",
    "s=input(\"enter string:\")\n",
    "w=s.split()\n",
    "for s1 in reversed(w):\n",
    "    for i in range(len(s1)-1,-1,-1):\n",
    "        print(s1[i],end=\" \")\n",
    "        print(\" \",end= \"\")\n"
   ]
  },
  {
   "cell_type": "code",
   "execution_count": 18,
   "id": "e289e44d",
   "metadata": {},
   "outputs": [
    {
     "name": "stdout",
     "output_type": "stream",
     "text": [
      "Enter string:Arati\n",
      "enter i'th position:2\n",
      "After removing i'th character: Arti\n"
     ]
    }
   ],
   "source": [
    "#3.program to Remove'i'th character from string in different ways\n",
    "s=input(\"Enter string:\")\n",
    "i=int(input(\"enter i'th position:\"))\n",
    "s1=\"\"\n",
    "for j in range(0,len(s)):\n",
    "    if i!=j:\n",
    "        s1=s1+s[j]\n",
    "print(\"After removing i'th character:\",s1)"
   ]
  },
  {
   "cell_type": "code",
   "execution_count": 19,
   "id": "3b43254a",
   "metadata": {},
   "outputs": [
    {
     "name": "stdout",
     "output_type": "stream",
     "text": [
      "enter first number:30\n",
      "enter second number:20\n",
      "enter third number:10\n",
      "first number is maximum\n"
     ]
    }
   ],
   "source": [
    "#function::\n",
    "#1.function to find of three numbers\n",
    "def max(a,b,c):\n",
    "    if(a>b)&(a>c):\n",
    "        print(\"first number is maximum\")\n",
    "    elif(b>c)&(b>a):\n",
    "        print(\"second number is maximum\")\n",
    "    else:\n",
    "        print(\"third number is maximum\")\n",
    "a=int(input(\"enter first number:\"))\n",
    "b=int(input(\"enter second number:\"))\n",
    "c=int(input(\"enter third number:\"))\n",
    "max(a,b,c)"
   ]
  },
  {
   "cell_type": "code",
   "execution_count": 20,
   "id": "ca8ce206",
   "metadata": {},
   "outputs": [
    {
     "name": "stdout",
     "output_type": "stream",
     "text": [
      "sum of number in list is: 210\n"
     ]
    }
   ],
   "source": [
    "#2.function to sum  of all the number in list\n",
    "def sum(list):\n",
    "    total=0\n",
    "    for i in list:\n",
    "        total=total+i\n",
    "    print(\"sum of number in list is:\",total)\n",
    "list=[10,20,30,40,50,60]\n",
    "sum(list)"
   ]
  },
  {
   "cell_type": "code",
   "execution_count": 21,
   "id": "617140bd",
   "metadata": {},
   "outputs": [
    {
     "name": "stdout",
     "output_type": "stream",
     "text": [
      "enter string:Arati\n",
      "reversed string is: itarA\n"
     ]
    }
   ],
   "source": [
    "#3.program to reverse a string\n",
    "def reverse_str(s):\n",
    "    s1=\"\"\n",
    "    for ch in s:\n",
    "        s1=ch+s1\n",
    "    print(\"reversed string is:\",s1)\n",
    "    \n",
    "s=input(\"enter string:\")\n",
    "reverse_str(s)\n",
    "    \n",
    "    \n",
    "    \n",
    "    \n",
    "    "
   ]
  },
  {
   "cell_type": "code",
   "execution_count": 24,
   "id": "d8cfe0cd",
   "metadata": {},
   "outputs": [
    {
     "name": "stdout",
     "output_type": "stream",
     "text": [
      "Enter string:Arati Adik\n",
      "Adik "
     ]
    }
   ],
   "source": [
    "#SET-B\n",
    "#string::\n",
    "#1.program to print even lenght words in string\n",
    "s=input(\"Enter string:\")\n",
    "words=s.split(\" \")\n",
    "for w in words:\n",
    "    if len(w)%2==0:\n",
    "        print(w,end=\" \")"
   ]
  },
  {
   "cell_type": "code",
   "execution_count": 30,
   "id": "5720ddde",
   "metadata": {},
   "outputs": [
    {
     "name": "stdout",
     "output_type": "stream",
     "text": [
      "Enter string:welcome to shrirampure city\n",
      "string accepted is all vowel\n"
     ]
    }
   ],
   "source": [
    "#2.program to accept the string which contain all vowels\n",
    "s=input(\"Enter string:\")\n",
    "if(('a'in s)and('e'in s)and('i'in s)and('o'in s)and('u'in s)or\n",
    "     ('A'in s)and('E'in s)and('I'in s)and('O'in s)and('U'in s)):\n",
    "    print(\"string accepted is all vowel\")\n",
    "else:\n",
    "    print(\"string not accepted is all vowel\")"
   ]
  },
  {
   "cell_type": "code",
   "execution_count": 31,
   "id": "5097b013",
   "metadata": {},
   "outputs": [
    {
     "name": "stdout",
     "output_type": "stream",
     "text": [
      "Enter first string:shrirampur\n",
      "Enter second string:khanapur\n",
      "number of matching elements: 7\n"
     ]
    }
   ],
   "source": [
    "#3.program to count the number of matching character in pair of string\n",
    "a=input(\"Enter first string:\")\n",
    "b=input(\"Enter second string:\")\n",
    "c=[]\n",
    "for ch in a:\n",
    "    if ch in b:\n",
    "        c.append(ch)\n",
    "print(\"number of matching elements:\",len(c))"
   ]
  },
  {
   "cell_type": "code",
   "execution_count": 37,
   "id": "f7dca867",
   "metadata": {},
   "outputs": [
    {
     "name": "stdout",
     "output_type": "stream",
     "text": [
      "unique elements: [10, 20, 30, 40, 50]\n"
     ]
    }
   ],
   "source": [
    "#function::\n",
    "#1.python function that takes a list and return a new list with unique elements of the first list\n",
    "def unique_list(numbers):\n",
    "    unique=[]\n",
    "    for item in numbers:\n",
    "        if item not in unique:\n",
    "            unique.append(item)\n",
    "    return unique\n",
    "print(\"unique elements:\",unique_list([10,20,30,40,30,50,20,10]))"
   ]
  },
  {
   "cell_type": "code",
   "execution_count": 39,
   "id": "d3a82847",
   "metadata": {},
   "outputs": [
    {
     "name": "stdout",
     "output_type": "stream",
     "text": [
      "Enter number:3\n",
      "number is prime\n"
     ]
    }
   ],
   "source": [
    "#2.python function that takes a number as a parameter check the number is prime or not\n",
    "def prime(n):\n",
    "    f=0\n",
    "    for i in range(2,n):\n",
    "        if(n%i)==0:\n",
    "            print(\"number is not prime\")\n",
    "            break\n",
    "        else:\n",
    "            print(\"number is prime\")\n",
    "n=int(input(\"Enter number:\"))\n",
    "prime(n)"
   ]
  },
  {
   "cell_type": "code",
   "execution_count": 40,
   "id": "95041b87",
   "metadata": {},
   "outputs": [
    {
     "name": "stdout",
     "output_type": "stream",
     "text": [
      "Enter number:6\n",
      "number is perfect\n"
     ]
    }
   ],
   "source": [
    "#3.python function to check whether a number is perfect or not\n",
    "def perfect(n):\n",
    "    sum=0\n",
    "    for i in range(1,n):\n",
    "        if(n%i)==0:\n",
    "            sum=sum+i\n",
    "    if(sum==n):\n",
    "        print(\"number is perfect\")\n",
    "    else:\n",
    "        print(\"number is not perfect\")\n",
    "n=int(input(\"Enter number:\"))\n",
    "perfect(n)"
   ]
  }
 ],
 "metadata": {
  "kernelspec": {
   "display_name": "Python 3 (ipykernel)",
   "language": "python",
   "name": "python3"
  },
  "language_info": {
   "codemirror_mode": {
    "name": "ipython",
    "version": 3
   },
   "file_extension": ".py",
   "mimetype": "text/x-python",
   "name": "python",
   "nbconvert_exporter": "python",
   "pygments_lexer": "ipython3",
   "version": "3.9.12"
  }
 },
 "nbformat": 4,
 "nbformat_minor": 5
}
