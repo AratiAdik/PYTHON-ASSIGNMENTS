{
 "cells": [
  {
   "cell_type": "code",
   "execution_count": null,
   "id": "818d73dd",
   "metadata": {},
   "outputs": [],
   "source": [
    "ASSIGNMENT NO:1"
   ]
  },
  {
   "cell_type": "code",
   "execution_count": 4,
   "id": "1a882712",
   "metadata": {},
   "outputs": [
    {
     "name": "stdout",
     "output_type": "stream",
     "text": [
      "Enter lenght of first sides:23\n",
      "Enter lenght of second  sides:53\n",
      "Enter lenght of third sides:31\n",
      "The area of triangle is:3870.03\n"
     ]
    }
   ],
   "source": [
    "#SET-A\n",
    "#1.Area of a Triangle\n",
    "a=float(input(\"Enter lenght of first sides:\"))\n",
    "b=float(input(\"Enter lenght of second  sides:\"))\n",
    "c=float(input(\"Enter lenght of third sides:\"))\n",
    "s=(a+b+c)/2\n",
    "area=(s*(s-a)*(s-b)*(s-c)**0.5)\n",
    "print('The area of triangle is:%0.2f'%area)"
   ]
  },
  {
   "cell_type": "code",
   "execution_count": 6,
   "id": "b59db934",
   "metadata": {},
   "outputs": [
    {
     "name": "stdout",
     "output_type": "stream",
     "text": [
      "Enter first variable:A\n",
      "Enter second variable:B\n",
      "variable before swapping:\n",
      "a= A\n",
      "b= B\n",
      "variable after swapping:\n",
      "a= B\n",
      "b= A\n"
     ]
    }
   ],
   "source": [
    "#2.swap two variable\n",
    "a=(input('Enter first variable:'))\n",
    "b=(input('Enter second variable:'))\n",
    "print('variable before swapping:')\n",
    "print('a=',a)\n",
    "print('b=',b)\n",
    "c=a\n",
    "a=b\n",
    "b=c\n",
    "print('variable after swapping:')\n",
    "print('a=',a)\n",
    "print('b=',b)"
   ]
  },
  {
   "cell_type": "code",
   "execution_count": 11,
   "id": "9a25810f",
   "metadata": {},
   "outputs": [
    {
     "name": "stdout",
     "output_type": "stream",
     "text": [
      "54\n"
     ]
    }
   ],
   "source": [
    "#3.Genrate random number\n",
    "import random\n",
    "print(random.randint(0,100))"
   ]
  },
  {
   "cell_type": "code",
   "execution_count": 14,
   "id": "2e47b460",
   "metadata": {},
   "outputs": [
    {
     "name": "stdout",
     "output_type": "stream",
     "text": [
      "Enter no:-2\n",
      "negative number\n"
     ]
    }
   ],
   "source": [
    "#SET-B\n",
    "#1.check number is positive,negative or zero\n",
    "num=float(input('Enter no:'))\n",
    "if num>0:\n",
    "    print(\"positive number\")\n",
    "elif num==0:\n",
    "    print(\"zero\")\n",
    "else:\n",
    "    print(\"negative number\")"
   ]
  },
  {
   "cell_type": "code",
   "execution_count": 1,
   "id": "1f7638ad",
   "metadata": {},
   "outputs": [
    {
     "name": "stdout",
     "output_type": "stream",
     "text": [
      "Enter any number:4\n",
      "number is even 4\n"
     ]
    }
   ],
   "source": [
    "#2.check number is even or odd\n",
    "n=int(input(\"Enter any number:\"))\n",
    "if(n%2)==0:\n",
    "    print(\"number is even\",n)\n",
    "else:\n",
    "    print(\"number is odd\",n)"
   ]
  },
  {
   "cell_type": "code",
   "execution_count": 3,
   "id": "0f18c55f",
   "metadata": {},
   "outputs": [
    {
     "name": "stdout",
     "output_type": "stream",
     "text": [
      "Enter number:3\n",
      "number is prime\n"
     ]
    }
   ],
   "source": [
    "#3.check number is prime  or not\n",
    "n=int(input(\"Enter number:\"))\n",
    "s=0\n",
    "for i in range(2,n):\n",
    "    if n%i==0:\n",
    "        s=s+i\n",
    "if s==0:\n",
    "    print(\"number is prime\") \n",
    "else:\n",
    "    print(\"number is not prime\")\n",
    "            \n",
    "            "
   ]
  },
  {
   "cell_type": "code",
   "execution_count": 8,
   "id": "35e39e67",
   "metadata": {},
   "outputs": [
    {
     "name": "stdout",
     "output_type": "stream",
     "text": [
      "Enter any number:5\n",
      "5\n",
      "10\n",
      "15\n",
      "20\n",
      "25\n",
      "30\n",
      "35\n",
      "40\n",
      "45\n",
      "50\n"
     ]
    }
   ],
   "source": [
    "#4.display multiplication table\n",
    "n=int(input(\"Enter any number:\"))\n",
    "for i in range(1,11):\n",
    "    print(i*n)"
   ]
  },
  {
   "cell_type": "code",
   "execution_count": 23,
   "id": "ac4f4d42",
   "metadata": {},
   "outputs": [
    {
     "name": "stdout",
     "output_type": "stream",
     "text": [
      "Enter number:20\n",
      "factors:\n",
      "1\n",
      "2\n",
      "4\n",
      "5\n",
      "10\n"
     ]
    }
   ],
   "source": [
    "#5.display factors\n",
    "n=int(input(\"Enter number:\"))\n",
    "print(\"factors:\")\n",
    "for i in range(1,n):\n",
    "    if(n%i)==0:\n",
    "        print(i)"
   ]
  },
  {
   "cell_type": "code",
   "execution_count": 26,
   "id": "66e9c6cd",
   "metadata": {},
   "outputs": [
    {
     "name": "stdout",
     "output_type": "stream",
     "text": [
      "Enter number:5\n",
      "factorial: 1\n",
      "factorial: 2\n",
      "factorial: 6\n",
      "factorial: 24\n",
      "factorial: 120\n"
     ]
    }
   ],
   "source": [
    "#6.display factorial\n",
    "n=int(input(\"Enter number:\"))\n",
    "f=1\n",
    "for i in range(1,n+1):\n",
    "    f=f*i\n",
    "    print(\"factorial:\",f)"
   ]
  },
  {
   "cell_type": "code",
   "execution_count": 6,
   "id": "84bbc9fd",
   "metadata": {},
   "outputs": [
    {
     "name": "stdout",
     "output_type": "stream",
     "text": [
      "Enter number:153\n",
      "number is Armstrong\n"
     ]
    }
   ],
   "source": [
    "#7.check Armstrong number\n",
    "n=int(input(\"Enter number:\"))\n",
    "s=0\n",
    "n1=n\n",
    "while n>0:\n",
    "    d=n%10\n",
    "    s=s+(d*d*d)\n",
    "    n=n//10\n",
    "if s==n1:\n",
    "    print(\"number is Armstrong\")\n",
    "else:\n",
    "    print(\"number is not Armstrong\")"
   ]
  }
 ],
 "metadata": {
  "kernelspec": {
   "display_name": "Python 3 (ipykernel)",
   "language": "python",
   "name": "python3"
  },
  "language_info": {
   "codemirror_mode": {
    "name": "ipython",
    "version": 3
   },
   "file_extension": ".py",
   "mimetype": "text/x-python",
   "name": "python",
   "nbconvert_exporter": "python",
   "pygments_lexer": "ipython3",
   "version": "3.9.12"
  }
 },
 "nbformat": 4,
 "nbformat_minor": 5
}
